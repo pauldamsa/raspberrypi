{
  "nbformat": 4,
  "nbformat_minor": 0,
  "metadata": {
    "colab": {
      "name": "Analysing FER2013 dataset .ipynb",
      "provenance": [],
      "collapsed_sections": [],
      "toc_visible": true,
      "mount_file_id": "1B-GAvyTso4ETXdMHOgNrIL91D2oDcR6T",
      "authorship_tag": "ABX9TyP07X1lk+Rjak0nJE9tkK/Q",
      "include_colab_link": true
    },
    "kernelspec": {
      "name": "python3",
      "display_name": "Python 3"
    }
  },
  "cells": [
    {
      "cell_type": "markdown",
      "metadata": {
        "id": "view-in-github",
        "colab_type": "text"
      },
      "source": [
        "<a href=\"https://colab.research.google.com/github/pauldamsa/raspberrypi/blob/master/Analysing_FER2013_dataset_.ipynb\" target=\"_parent\"><img src=\"https://colab.research.google.com/assets/colab-badge.svg\" alt=\"Open In Colab\"/></a>"
      ]
    },
    {
      "cell_type": "markdown",
      "metadata": {
        "id": "OTIo1hQbqq9K",
        "colab_type": "text"
      },
      "source": [
        "# **ANALYSE FER2013 DATASET**"
      ]
    },
    {
      "cell_type": "markdown",
      "metadata": {
        "id": "7NjNhRg_rmJm",
        "colab_type": "text"
      },
      "source": [
        "Import the necessary Library"
      ]
    },
    {
      "cell_type": "code",
      "metadata": {
        "id": "ydVA3zFXrYHU",
        "colab_type": "code",
        "colab": {}
      },
      "source": [
        "import pandas as pd\n",
        "import matplotlib.pyplot as plt\n",
        "import numpy as np"
      ],
      "execution_count": 0,
      "outputs": []
    },
    {
      "cell_type": "code",
      "metadata": {
        "id": "bph4bgttrfjX",
        "colab_type": "code",
        "colab": {}
      },
      "source": [
        "%matplotlib inline"
      ],
      "execution_count": 0,
      "outputs": []
    },
    {
      "cell_type": "code",
      "metadata": {
        "id": "pEF74_DnryPj",
        "colab_type": "code",
        "colab": {}
      },
      "source": [
        "# get the dataset \n",
        "df = pd.read_csv(\"/content/drive/My Drive/Complete Guide in TensorFlow/datasets/facial-expression/fer2013/fer2013.csv\")"
      ],
      "execution_count": 0,
      "outputs": []
    },
    {
      "cell_type": "code",
      "metadata": {
        "id": "hE_e0uXrs6O8",
        "colab_type": "code",
        "colab": {}
      },
      "source": [
        "# Here is a dictionary as follow:\n",
        "# {\"emotion\": \"samples\"}\n",
        "my_dict_filters_emotions = {}\n",
        "for i in range(7):\n",
        "  my_filter = df['emotion'] == i\n",
        "  my_dict_filters_emotions[i] = len(df[my_filter].index)"
      ],
      "execution_count": 0,
      "outputs": []
    },
    {
      "cell_type": "code",
      "metadata": {
        "id": "A0jmHHAQs8iB",
        "colab_type": "code",
        "colab": {}
      },
      "source": [
        "# get the emotions\n",
        "emotions = ['Angry', 'Disgust', 'Fear', 'Happy', 'Sad', 'Surprise', 'Neutral']\n",
        "# get the values of every key (#samples for a certain emotion)\n",
        "noSamples = list(my_dict_filters_emotions.values())"
      ],
      "execution_count": 0,
      "outputs": []
    },
    {
      "cell_type": "code",
      "metadata": {
        "id": "GbiAXdqYwMFn",
        "colab_type": "code",
        "colab": {
          "base_uri": "https://localhost:8080/",
          "height": 298
        },
        "outputId": "676638cf-a965-44fd-b37b-4f72487d2b5d"
      },
      "source": [
        "# plot the emotions with their number of samples\n",
        "plt.bar(emotions,noSamples, align='center' )\n",
        "plt.ylabel('#Samples')\n",
        "plt.title('Dataset distribution')"
      ],
      "execution_count": 42,
      "outputs": [
        {
          "output_type": "execute_result",
          "data": {
            "text/plain": [
              "Text(0.5, 1.0, 'Dataset distribution')"
            ]
          },
          "metadata": {
            "tags": []
          },
          "execution_count": 42
        },
        {
          "output_type": "display_data",
          "data": {
            "image/png": "[encoded data removed]",
            "text/plain": [
              "<Figure size 432x288 with 1 Axes>"
            ]
          },
          "metadata": {
            "tags": []
          }
        }
      ]
    },
    {
      "cell_type": "code",
      "metadata": {
        "id": "slKgiCPYy4r8",
        "colab_type": "code",
        "colab": {}
      },
      "source": [
        ""
      ],
      "execution_count": 0,
      "outputs": []
    }
  ]
}